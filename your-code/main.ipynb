{
 "cells": [
  {
   "cell_type": "markdown",
   "metadata": {},
   "source": [
    "# Supervised Learning Model Evaluation Lab\n",
    "\n",
    "Complete the exercises below to solidify your knowledge and understanding of supervised learning model evaluation."
   ]
  },
  {
   "cell_type": "code",
   "execution_count": 1,
   "metadata": {},
   "outputs": [],
   "source": [
    "import pandas as pd\n",
    "import numpy as np\n",
    "import warnings\n",
    "warnings.filterwarnings('ignore')"
   ]
  },
  {
   "cell_type": "markdown",
   "metadata": {},
   "source": [
    "## Regression Model Evaluation"
   ]
  },
  {
   "cell_type": "code",
   "execution_count": 22,
   "metadata": {},
   "outputs": [],
   "source": [
    "from sklearn.datasets import fetch_california_housing\n",
    "\n",
    "data = fetch_california_housing()\n",
    "# help(data)\n",
    "# print(data)\n",
    "# print(data['DESCR'])\n",
    "# print(data['data'])\n",
    "# print(data['data'].shape)\n",
    "ca_housing = data['data']\n",
    "# print(ca_housing)\n",
    "# print(data['target'])\n",
    "# print(data['target_names'])\n",
    "ca_mhv = data[\"target\"]\n",
    "# print(ca_mhv)\n",
    "# print(data[\"feature_names\"])\n",
    "# print(len(data['feature_names']))\n",
    "columns = data[\"feature_names\"]\n",
    "# print(columns)\n",
    "X = pd.DataFrame(ca_housing, columns=columns)\n",
    "y = pd.DataFrame(ca_mhv, columns=['MHV'])\n",
    "\n",
    "data = pd.concat([X, y])\n",
    "# print(data.MHV.isna().sum())\n",
    "# Given we have nan values for MHV, we will drop those rows\n",
    "data.dropna(subset=['MHV'], inplace=True)\n",
    "# data\n",
    "\n",
    "# X\n",
    "# y\n"
   ]
  },
  {
   "cell_type": "markdown",
   "metadata": {},
   "source": [
    "## 1. Split this data set into training (80%) and testing (20%) sets.\n",
    "\n",
    "The `MEDV` field represents the median value of owner-occupied homes (in $1000's) and is the target variable that we will want to predict."
   ]
  },
  {
   "cell_type": "code",
   "execution_count": 3,
   "metadata": {},
   "outputs": [],
   "source": [
    "from sklearn.model_selection import train_test_split\n",
    "from sklearn.metrics import mean_squared_error, r2_score, mean_absolute_error"
   ]
  },
  {
   "cell_type": "code",
   "execution_count": 4,
   "metadata": {},
   "outputs": [],
   "source": [
    "# Your code here\n",
    "seed = 161803\n",
    "X_train, X_test, y_train, y_test = train_test_split(X,y, random_state=seed, test_size=.2)"
   ]
  },
  {
   "cell_type": "markdown",
   "metadata": {},
   "source": [
    "## 2. Train a `LinearRegression` model on this data set and generate predictions on both the training and the testing set."
   ]
  },
  {
   "cell_type": "code",
   "execution_count": 5,
   "metadata": {},
   "outputs": [],
   "source": [
    "# Your code here\n",
    "from sklearn.linear_model import LinearRegression\n",
    "\n",
    "model = LinearRegression()\n",
    "model.fit(X_train, y_train)\n",
    "\n",
    "pred_training = model.predict(X_train)\n",
    "# print('Train predition: ', pred_training)\n",
    "pred_test = model.predict(X_test)\n",
    "# print('Test predition: ', pred_test)"
   ]
  },
  {
   "cell_type": "markdown",
   "metadata": {},
   "source": [
    "## 3. Calculate and print R-squared for both the training and the testing set."
   ]
  },
  {
   "cell_type": "code",
   "execution_count": 6,
   "metadata": {},
   "outputs": [
    {
     "name": "stdout",
     "output_type": "stream",
     "text": [
      "Train R²:  0.604040982891235\n",
      "Test R²:  0.6052651123675199\n"
     ]
    }
   ],
   "source": [
    "# Your code here\n",
    "r2_train = r2_score(y_train, pred_training)\n",
    "print('Train R²: ', r2_train)\n",
    "\n",
    "r2_test = r2_score(y_test, pred_test)\n",
    "print('Test R²: ', r2_test)"
   ]
  },
  {
   "cell_type": "markdown",
   "metadata": {},
   "source": [
    "## 4. Calculate and print mean squared error for both the training and the testing set."
   ]
  },
  {
   "cell_type": "code",
   "execution_count": 7,
   "metadata": {},
   "outputs": [
    {
     "name": "stdout",
     "output_type": "stream",
     "text": [
      "Mean squared error training:  0.5266982738591474\n",
      "Mean squared error test:  0.5276647081078614\n"
     ]
    }
   ],
   "source": [
    "# Your code here\n",
    "mse_train = mean_squared_error(y_train, pred_training)\n",
    "print('Mean squared error training: ', mse_train)\n",
    "mse_test = mean_squared_error(y_test, pred_test)\n",
    "print('Mean squared error test: ', mse_test)"
   ]
  },
  {
   "cell_type": "markdown",
   "metadata": {},
   "source": [
    "## 5. Calculate and print mean absolute error for both the training and the testing set."
   ]
  },
  {
   "cell_type": "code",
   "execution_count": 8,
   "metadata": {},
   "outputs": [
    {
     "name": "stdout",
     "output_type": "stream",
     "text": [
      "Mean absolute error train:  0.5302225783319179\n",
      "Mean absolute error test:  0.5345053907946938\n"
     ]
    }
   ],
   "source": [
    "# Your code here\n",
    "mae_train = mean_absolute_error(y_train, pred_training)\n",
    "print('Mean absolute error train: ', mae_train)\n",
    "mae_test = mean_absolute_error(y_test, pred_test)\n",
    "print('Mean absolute error test: ', mae_test)"
   ]
  },
  {
   "cell_type": "markdown",
   "metadata": {},
   "source": [
    "## Classification Model Evaluation"
   ]
  },
  {
   "cell_type": "code",
   "execution_count": 9,
   "metadata": {},
   "outputs": [],
   "source": [
    "# Your code here\n",
    "\n",
    "%reset -f\n",
    "\n",
    "import pandas as pd\n",
    "import numpy as np\n",
    "import warnings\n",
    "warnings.filterwarnings('ignore')\n",
    "\n",
    "from sklearn.model_selection import train_test_split\n",
    "from sklearn.metrics import accuracy_score, balanced_accuracy_score, confusion_matrix\n",
    "\n",
    "from sklearn.datasets import load_iris\n",
    "\n",
    "seed = 161803\n",
    "\n",
    "irisdf = load_iris()\n",
    "# print(irisdf)\n",
    "# print(irisdf.DESCR)\n",
    "iris_data = irisdf['data']\n",
    "columns = irisdf['feature_names']\n",
    "# pd.DataFrame(irisdf)\n",
    "# print(irisdf['target'])\n",
    "iris_class = irisdf['target']\n",
    "\n",
    "X = pd.DataFrame(iris_data, columns=columns)\n",
    "y = pd.DataFrame(iris_class, columns=['iris class'])\n",
    "\n",
    "# df = pd.concat([X, y], axis='columns')\n",
    "# df.sample(5)"
   ]
  },
  {
   "cell_type": "markdown",
   "metadata": {},
   "source": [
    "## 6. Split this data set into training (80%) and testing (20%) sets.\n",
    "\n",
    "The `class` field represents the type of flower and is the target variable that we will want to predict."
   ]
  },
  {
   "cell_type": "code",
   "execution_count": 10,
   "metadata": {},
   "outputs": [],
   "source": [
    "X_train, X_test, y_train, y_test = train_test_split(X, y, random_state=seed, test_size=.2)"
   ]
  },
  {
   "cell_type": "markdown",
   "metadata": {},
   "source": [
    "## 7. Train a `LogisticRegression` model on this data set and generate predictions on both the training and the testing set."
   ]
  },
  {
   "cell_type": "code",
   "execution_count": 11,
   "metadata": {},
   "outputs": [
    {
     "name": "stdout",
     "output_type": "stream",
     "text": [
      "[0 2 1 2 0 2 0 2 0 1 0 2 2 1 2 0 0 2 0 2 2 2 1 2 2 1 1 2 2 1 2 0 0 1 1 2 1\n",
      " 0 0 2 0 2 2 1 0 0 0 2 1 1 2 0 0 1 2 1 1 1 2 0 2 1 0 1 0 1 2 0 1 2 1 0 0 1\n",
      " 2 0 1 2 0 0 0 0 1 0 2 0 1 1 1 1 2 2 1 0 1 2 0 0 1 2 1 1 1 0 0 2 2 0 1 2 2\n",
      " 2 2 1 1 0 2 2 2 2]\n",
      "[0 1 1 0 1 2 0 1 2 0 0 2 1 1 1 2 0 0 0 2 2 0 2 0 0 1 1 1 0 1]\n"
     ]
    }
   ],
   "source": [
    "# Your code here\n",
    "from sklearn.linear_model import LogisticRegression\n",
    "\n",
    "model = LogisticRegression()\n",
    "\n",
    "model.fit(X_train, y_train)\n",
    "\n",
    "pred_train = model.predict(X_train)\n",
    "print(pred_train)\n",
    "pred_test = model.predict(X_test)\n",
    "print(pred_test)"
   ]
  },
  {
   "cell_type": "markdown",
   "metadata": {},
   "source": [
    "## 8. Calculate and print the accuracy score for both the training and the testing set."
   ]
  },
  {
   "cell_type": "code",
   "execution_count": 12,
   "metadata": {},
   "outputs": [
    {
     "name": "stdout",
     "output_type": "stream",
     "text": [
      "Accuracy score train:  0.975\n",
      "Accuracy score test:  0.933\n"
     ]
    }
   ],
   "source": [
    "# Your code here\n",
    "\n",
    "acc_train = accuracy_score(y_train, pred_train)\n",
    "print('Accuracy score train: ', acc_train)\n",
    "acc_test = accuracy_score(y_test, pred_test)\n",
    "print('Accuracy score test: ', acc_test.__format__(\".3f\"))"
   ]
  },
  {
   "cell_type": "markdown",
   "metadata": {},
   "source": [
    "## 9. Calculate and print the balanced accuracy score for both the training and the testing set."
   ]
  },
  {
   "cell_type": "code",
   "execution_count": 13,
   "metadata": {},
   "outputs": [
    {
     "name": "stdout",
     "output_type": "stream",
     "text": [
      "Balanced accuracy score train:  0.975\n",
      "Balanced accuracy score test:  0.922\n"
     ]
    }
   ],
   "source": [
    "# Your code here\n",
    "\n",
    "bal_train = balanced_accuracy_score(y_train, pred_train)\n",
    "print('Balanced accuracy score train: ', bal_train.__format__(\".3f\"))\n",
    "bal_test = balanced_accuracy_score(y_test, pred_test)\n",
    "print('Balanced accuracy score test: ', bal_test.__format__(\".3f\"))"
   ]
  }
 ],
 "metadata": {
  "kernelspec": {
   "display_name": "Python 3 (ipykernel)",
   "language": "python",
   "name": "python3"
  },
  "language_info": {
   "codemirror_mode": {
    "name": "ipython",
    "version": 3
   },
   "file_extension": ".py",
   "mimetype": "text/x-python",
   "name": "python",
   "nbconvert_exporter": "python",
   "pygments_lexer": "ipython3",
   "version": "3.11.9"
  }
 },
 "nbformat": 4,
 "nbformat_minor": 2
}
